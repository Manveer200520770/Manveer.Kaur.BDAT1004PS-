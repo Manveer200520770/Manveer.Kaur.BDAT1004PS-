{
 "cells": [
  {
   "cell_type": "markdown",
   "id": "0ce23384",
   "metadata": {},
   "source": [
    "#### Question 1 \n",
    "What data type is each of the following?\n"
   ]
  },
  {
   "cell_type": "code",
   "execution_count": 4,
   "id": "d9b03f2c",
   "metadata": {},
   "outputs": [
    {
     "name": "stdout",
     "output_type": "stream",
     "text": [
      "<class 'float'>\n",
      "<class 'bool'>\n",
      "<class 'str'>\n",
      "<class 'int'>\n",
      "<class 'str'>\n",
      "<class 'str'>\n",
      "<class 'float'>\n",
      "<class 'int'>\n",
      "<class 'set'>\n",
      "<class 'bool'>\n",
      "<class 'float'>\n"
     ]
    }
   ],
   "source": [
    "\n",
    "print(type(5.0))\n",
    "print(type(5 > 1))\n",
    "print(type('5'))\n",
    "print(type(5 * 2))\n",
    "print(type('5' * 2))\n",
    "print(type('5' + '2'))\n",
    "print(type(5 / 2))\n",
    "print(type(5 % 2))\n",
    "print(type({5, 2, 1}))\n",
    "print(type(5 == 3))\n",
    "print(type(3.14))"
   ]
  },
  {
   "cell_type": "markdown",
   "id": "481676db",
   "metadata": {},
   "source": [
    " #### Question 2\n",
    "Write (and evaluate) C# expressions that answer these questions:"
   ]
  },
  {
   "cell_type": "markdown",
   "id": "047975a4",
   "metadata": {},
   "source": [
    "(a).How many letters are there in 'Supercalifragilisticexpialidocious'?"
   ]
  },
  {
   "cell_type": "code",
   "execution_count": 18,
   "id": "151c9104",
   "metadata": {},
   "outputs": [
    {
     "name": "stdout",
     "output_type": "stream",
     "text": [
      "34\n"
     ]
    }
   ],
   "source": [
    "a='Supercalifragilisticexpialidocious'\n",
    "print(len(a))"
   ]
  },
  {
   "cell_type": "markdown",
   "id": "c39d7528",
   "metadata": {},
   "source": [
    "(b). Does 'Supercalifragilisticexpialidocious' contain 'ice' as a substring?"
   ]
  },
  {
   "cell_type": "code",
   "execution_count": 20,
   "id": "0a99708d",
   "metadata": {},
   "outputs": [
    {
     "name": "stdout",
     "output_type": "stream",
     "text": [
      "Yes ice is in 'Supercalifragilisticexpialidocious'\n"
     ]
    }
   ],
   "source": [
    "a='Supercalifragilisticexpialidocious'\n",
    "if \"ice\" in a:\n",
    "    print(\"Yes ice is in 'Supercalifragilisticexpialidocious'\")"
   ]
  },
  {
   "cell_type": "markdown",
   "id": "3aa12abe",
   "metadata": {},
   "source": [
    "(c)Which of the following words is the longest: \n"
   ]
  },
  {
   "cell_type": "code",
   "execution_count": 21,
   "id": "dba00717",
   "metadata": {},
   "outputs": [
    {
     "name": "stdout",
     "output_type": "stream",
     "text": [
      "Supercalifragilisticexpialidocious and the length is 34\n",
      "Bababadalgharaghtakamminarronnkonn and the length is 34\n"
     ]
    }
   ],
   "source": [
    "s='Supercalifragilisticexpialidocious'\n",
    "h='Honorificabilitudinitatibus'\n",
    "b='Bababadalgharaghtakamminarronnkonn'\n",
    "if len(s)>=len(h) and len(s)>=len(b):\n",
    "    print(s + \" and the length is \" + str(len(s)))\n",
    "if len(h)>=len(s) and len(h)>=len(b):\n",
    "    print(h + \" and the length is \" + str(len(h)))\n",
    "if len(b)>=len(s) and len(b)>=len(h):\n",
    "    print(b + \" and the length is \" + str(len(b)))"
   ]
  },
  {
   "cell_type": "markdown",
   "id": "0fdda15a",
   "metadata": {},
   "source": [
    "(d)Which composer comes first in the dictionary:"
   ]
  },
  {
   "cell_type": "code",
   "execution_count": 22,
   "id": "62bdae08",
   "metadata": {},
   "outputs": [
    {
     "name": "stdout",
     "output_type": "stream",
     "text": [
      "Bartok\n",
      "Buxtehude\n"
     ]
    }
   ],
   "source": [
    "a=['Berlioz', 'Borodin', 'Brian', 'Bartok', 'Bellini', 'Buxtehude', 'Bernstein']\n",
    "a.sort()\n",
    "print(a[0])\n",
    "print(a[-1])"
   ]
  },
  {
   "cell_type": "markdown",
   "id": "72f68f36",
   "metadata": {},
   "source": [
    "#### Question 3\n",
    "Implement function triangleArea(a,b,c) that takes as input the lengths of the 3\n",
    "sides of a triangle and returns the area of the triangle. By Heron's formula, the area\n",
    "of a triangle with side lengths a, b, and c is under root s(s - a)(s -b)(s -c), where s = (a+b+c)/2."
   ]
  },
  {
   "cell_type": "code",
   "execution_count": 23,
   "id": "eeb45564",
   "metadata": {},
   "outputs": [
    {
     "name": "stdout",
     "output_type": "stream",
     "text": [
      "side one of traingle 2\n",
      "side two of triangle 2\n",
      "side three of triangle 2\n",
      "1.7320508075688772\n",
      "None\n"
     ]
    }
   ],
   "source": [
    "a=float(input(\"side one of traingle \"))\n",
    "b=float(input(\"side two of triangle \"))\n",
    "c=float(input(\"side three of triangle \"))\n",
    "def triangle():\n",
    "    s=(a+b+c)/2\n",
    "    area=(s*(s-a)*(s-b)*(s-c))**0.5\n",
    "    print(area)\n",
    "print(triangle())   "
   ]
  },
  {
   "cell_type": "markdown",
   "id": "6bf03e68",
   "metadata": {},
   "source": [
    "#### Question 4\n",
    "Write a program in python to separate odd and even integers in separate arrays"
   ]
  },
  {
   "cell_type": "code",
   "execution_count": 24,
   "id": "98d12834",
   "metadata": {},
   "outputs": [
    {
     "name": "stdout",
     "output_type": "stream",
     "text": [
      "25 is odd\n",
      "47 is odd\n",
      "42 is even\n",
      "56 is even\n",
      "32 is even\n"
     ]
    }
   ],
   "source": [
    "num=[25,47,42,56,32]\n",
    "for i in num:\n",
    "    \n",
    "# num = int(input(\"Enter a number: \"))\n",
    "    if (i % 2) == 0:\n",
    "       print(str(i) + \" is even\")\n",
    "    else:\n",
    "       print(str(i) + \" is odd\")"
   ]
  },
  {
   "cell_type": "markdown",
   "id": "359f17df",
   "metadata": {},
   "source": [
    "#### Question 5 \n",
    "\n"
   ]
  },
  {
   "cell_type": "markdown",
   "id": "fae5668d",
   "metadata": {},
   "source": [
    "(a).Write a function inside(x,y,x1,y1,x2,y2) that returns True or False depending on whether the point (x,y) lies in the rectangle with lower left corner (x1,y1) and upper right corner (x2,y2)."
   ]
  },
  {
   "cell_type": "code",
   "execution_count": 25,
   "id": "88a24d83",
   "metadata": {},
   "outputs": [
    {
     "name": "stdout",
     "output_type": "stream",
     "text": [
      "True\n",
      "False\n"
     ]
    }
   ],
   "source": [
    "def inside(x,y,x1,y1,x2,y2) :\n",
    "    if (x > x1 and x < x2 and\n",
    "        y > y1 and y < y2) :\n",
    "        return True\n",
    "    else :\n",
    "        return False\n",
    " \n",
    "# Driver code\n",
    "if __name__ == \"__main__\" :\n",
    " \n",
    "   \n",
    "    x1 , y1 , x2 , y2 = 0, 0, 2, 3\n",
    " \n",
    " \n",
    "    # function call\n",
    "    if inside(1,1,0,0,2,3) :\n",
    "        print(\"True\")\n",
    "    else :\n",
    "        print(\"False\")\n",
    "        \n",
    "    if inside(-1,-1,0,0,2,3) :\n",
    "        print(\"True\")\n",
    "    else :\n",
    "        print(\"False\")"
   ]
  },
  {
   "cell_type": "markdown",
   "id": "3b30f33b",
   "metadata": {},
   "source": [
    "#### Question 6\n",
    "You can turn a word into pig-Latin using the following two rules(simplified):\n"
   ]
  },
  {
   "cell_type": "code",
   "execution_count": 1,
   "id": "7de582f3",
   "metadata": {},
   "outputs": [
    {
     "name": "stdout",
     "output_type": "stream",
     "text": [
      "appyhay \n",
      "enterway \n"
     ]
    }
   ],
   "source": [
    "def pig(word):\n",
    "    x = word.lower()\n",
    "    words = x.split()\n",
    "    vowels = (\"a\",\"e\",\"i\",\"o\",\"u\")\n",
    "    if x[0] in vowels:\n",
    "        for word in words:\n",
    "            print(word + \"way\", end = \" \")\n",
    "    else:\n",
    "        for word in words:\n",
    "            print(word[1:] + word[0] + \"ay\", end = \" \")\n",
    "    print()\n",
    "    \n",
    "pig('happy')\n",
    "pig('enter')"
   ]
  },
  {
   "cell_type": "markdown",
   "id": "0a8268a8",
   "metadata": {},
   "source": [
    "#### Question 7\n",
    "File bloodtype1.txt records blood-types of patients (A, B, AB, O or OO) at a clinic. \n",
    "Write a function bldcount() that reads the file with name name and reports (i.e., \n",
    "prints) how many patients there are in each bloodtype."
   ]
  },
  {
   "cell_type": "code",
   "execution_count": 4,
   "id": "11701489",
   "metadata": {},
   "outputs": [
    {
     "name": "stdout",
     "output_type": "stream",
     "text": [
      "There are 15 patient patients of blood type A\n",
      "There is 1 patient of blood type B\n",
      "There are 13 patient patients of blood type AB\n",
      "There are 15 patient patients of blood type O\n",
      "There are no patient patients of blood type OO\n"
     ]
    }
   ],
   "source": [
    "def bldcount(txt):\n",
    "    with open(txt) as f:\n",
    "        lines = f.read()\n",
    "    bg = lines.split()\n",
    "    \n",
    "    a = 0\n",
    "    b = 0\n",
    "    ab = 0\n",
    "    o = 0\n",
    "    oo = 0\n",
    "\n",
    "    for blood in bg:\n",
    "        if blood == 'A' :\n",
    "            a = a+1            \n",
    "        elif blood == 'B':\n",
    "            b = b+1\n",
    "        elif blood == 'AB':\n",
    "            ab = ab+1\n",
    "        elif blood == 'O':\n",
    "            o = o+1\n",
    "        elif blood == 'OO':\n",
    "            oo = oo+1 \n",
    "    print(\"There \" + ('is ' if (a==1) else 'are ') + ('no' if (a==0) else str(a)) + (' patient' if (b==1) else ' patients') +\" patients of blood type A\")\n",
    "    print(\"There \" + ('is ' if (b==1) else 'are ' )+ ('no' if (b==0) else str(b)) + (' patient' if (b==1) else ' patients') +\" of blood type B\")\n",
    "    print(\"There \" + ('is ' if (ab==1) else 'are ' )+ ('no' if (ab==0) else str(ab)) + (' patient' if (b==1) else ' patients') +\" patients of blood type AB\")\n",
    "    print(\"There \" + ('is ' if (o==1) else 'are ' )+ ('no' if (o==0) else str(o)) + (' patient' if (b==1) else ' patients') +\" patients of blood type O\")\n",
    "    print(\"There \" + ('is ' if (oo==1) else 'are ' )+ ('no' if (oo==0) else str(oo)) + (' patient' if (b==1) else ' patients') +\" patients of blood type OO\")\n",
    "    \n",
    "bldcount('bloodtype1.txt')"
   ]
  },
  {
   "cell_type": "markdown",
   "id": "9ad19ba7",
   "metadata": {},
   "source": [
    "#### Question 8\n",
    "Write a function curconv() that takes as input:\n",
    "1. a currency represented using a string (e.g., 'JPY' for the Japanese Yen or \n",
    "'EUR' for the Euro)\n",
    "2. an amount\n",
    "and then converts and returns the amount in US dollars.\n"
   ]
  },
  {
   "cell_type": "code",
   "execution_count": 7,
   "id": "a99b8655",
   "metadata": {},
   "outputs": [
    {
     "name": "stdout",
     "output_type": "stream",
     "text": [
      "122.96544\n",
      "1.241401\n"
     ]
    }
   ],
   "source": [
    "currency = \"\"\n",
    "res = int\n",
    "def curconv(cur,amt):\n",
    "    if cur == \"AUD\":\n",
    "        res = 1.0345157*amt\n",
    "        currency = \"Australian Dollar\"\n",
    "    elif cur == \"CHF\":\n",
    "        res =  1.0237414*amt\n",
    "        currency = \"Swiss Franc\"\n",
    "    elif cur == \"CNY\":\n",
    "        res =  0.1550176*amt\n",
    "        currency = \"Chinese Yuan\"\n",
    "    elif cur == \"DKK\":\n",
    "        res =  0.1651442*amt\n",
    "        currency = \"Danish Krone\"\n",
    "    elif cur == \"EUR\":\n",
    "        res =  1.2296544*amt\n",
    "        currency = \"Euro\"\n",
    "    elif cur == \"GBP\":\n",
    "        res =  1.5550989*amt\n",
    "        currency = \"British Pound\"\n",
    "    elif cur == \"HKD\":\n",
    "        res =  0.1270207*amt\n",
    "        currency = \"Hong Kong Dollar\"\n",
    "    elif cur == \"INR\":\n",
    "        res =  0.0177643*amt\n",
    "        currency = \"Indian Rupee\"\n",
    "    elif cur == \"JPY\":\n",
    "        res =  0.01241401*amt\n",
    "        currency = \"Japanese Yen\"\n",
    "    elif cur == \"MXN\":\n",
    "        res =  0.0751848*amt\n",
    "        currency = \"Mexican Peso\"\n",
    "    elif cur == \"MYR\":\n",
    "        res =  0.3145411*amt\n",
    "        currency = \"Malaysian Ringgit\"\n",
    "    elif cur == \"NOK\":\n",
    "        res =  0.1677063*amt\n",
    "        currency = \"Norwegian Krone\"\n",
    "    elif cur == \"NZD\":\n",
    "        res =  0.8003591*amt\n",
    "        currency = \"New Zealand Dollar\"\n",
    "    elif cur == \"PHP\":\n",
    "        res =  0.0233234*amt\n",
    "        currency = \"Philippine Peso\"\n",
    "    elif cur == \"SEK\":\n",
    "        res =  0.148269*amt\n",
    "        currency = \"Swedish Krona\"\n",
    "    elif cur == \"SGD\":\n",
    "        res =  0.788871*amt\n",
    "        currency = \"Singapore Dollar\"\n",
    "    elif cur == \"THB\":\n",
    "        res =  0.0313789*amt\n",
    "        currency = \"Thai Baht\"\n",
    "        \n",
    "    print (str(res))\n",
    "\n",
    "curconv(\"EUR\" , 100)\n",
    "curconv(\"JPY\" , 100)"
   ]
  },
  {
   "cell_type": "markdown",
   "id": "f2ec4506",
   "metadata": {},
   "source": [
    "#### Question 9\n",
    "Each of the following will cause an exception (an error). Identify what type of \n",
    "exception each will cause."
   ]
  },
  {
   "cell_type": "markdown",
   "id": "ff88fdb1",
   "metadata": {},
   "source": [
    "(a).Trying to add incompatible variables, as in adding 6 + ‘a’\n",
    "\n"
   ]
  },
  {
   "cell_type": "markdown",
   "id": "37bb8db8",
   "metadata": {},
   "source": [
    "#### TypeError: unsupported operand type(s) for +: 'int' and 'str'\n",
    "explantion= string cannot be concatenned with interger(number)"
   ]
  },
  {
   "cell_type": "markdown",
   "id": "7f73c6bd",
   "metadata": {},
   "source": [
    "(b).Referring to the 12th item of a list that has only 10 \n",
    "items"
   ]
  },
  {
   "cell_type": "markdown",
   "id": "a7b9de98",
   "metadata": {},
   "source": [
    "#### IndexError: list index out of range list index out of range\n",
    "explanation= we cannot call element which is out of range of list"
   ]
  },
  {
   "cell_type": "markdown",
   "id": "e948d8f3",
   "metadata": {},
   "source": [
    "(c).Using a value that is out of range for a function’s input, such as calling math.sqrt(-1.0)"
   ]
  },
  {
   "cell_type": "markdown",
   "id": "b0dd4159",
   "metadata": {},
   "source": [
    "#### ValueError: math domain error\n",
    "explanation= square root is possible for positive numbers only"
   ]
  },
  {
   "cell_type": "markdown",
   "id": "b43b6e41",
   "metadata": {},
   "source": [
    "(d).Using an undeclared variable, such as print(x)\n",
    "when x has not been defined"
   ]
  },
  {
   "cell_type": "markdown",
   "id": "3e72103c",
   "metadata": {},
   "source": [
    "#### NameError: name 'X' is not defined\n",
    "explanation= we cannot print anything until and unless it is defined"
   ]
  },
  {
   "cell_type": "markdown",
   "id": "9a25fb98",
   "metadata": {},
   "source": [
    "(e).Trying to open a file that does not exist, such as \n",
    "mistyping the file name or looking in the wrong \n",
    "directory"
   ]
  },
  {
   "cell_type": "markdown",
   "id": "25a16c75",
   "metadata": {},
   "source": [
    "#### FileNotFoundError: [Errno 2] No such file or directory: 'test.txt'\n",
    "explanation= there is no file by the name of 'test.txt'"
   ]
  },
  {
   "cell_type": "markdown",
   "id": "36f8a32c",
   "metadata": {},
   "source": [
    "#### Question 10\n",
    "Assume that the string letters is already defined as 'abcdefghijklmnopqrstuvwxyz'. Write a function called frequencies() that takes a string as its only parameter, and returns a list of integers, showing the number of times each character appears in the text. Your function may ignore any characters that are not in letters."
   ]
  },
  {
   "cell_type": "code",
   "execution_count": 16,
   "id": "811d350f",
   "metadata": {},
   "outputs": [
    {
     "name": "stdout",
     "output_type": "stream",
     "text": [
      "[1, 1, 1, 3, 5, 1, 1, 2, 1, 0, 1, 0, 1, 2, 4, 0, 1, 2, 0, 2, 1, 0, 1, 1, 0, 0]\n",
      "[1, 0, 0, 0, 1, 0, 0, 0, 0, 0, 0, 1, 0, 0, 0, 2, 0, 0, 0, 0, 0, 0, 0, 0, 0, 0]\n"
     ]
    }
   ],
   "source": [
    "def frequencies(word):\n",
    "  alphabets = \"abcdefghijklmnopqrstuvwqyz\"\n",
    "  counts = []\n",
    "  for letter in alphabets:\n",
    "    count = word.count(letter)\n",
    "    counts.append(count)\n",
    "  print(counts)   \n",
    "    \n",
    "frequencies(\"The quick red fox got bored and went home.\")\n",
    "frequencies(\"apple\")"
   ]
  }
 ],
 "metadata": {
  "kernelspec": {
   "display_name": "Python 3 (ipykernel)",
   "language": "python",
   "name": "python3"
  },
  "language_info": {
   "codemirror_mode": {
    "name": "ipython",
    "version": 3
   },
   "file_extension": ".py",
   "mimetype": "text/x-python",
   "name": "python",
   "nbconvert_exporter": "python",
   "pygments_lexer": "ipython3",
   "version": "3.9.12"
  }
 },
 "nbformat": 4,
 "nbformat_minor": 5
}
